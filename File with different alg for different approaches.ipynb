{
 "cells": [
  {
   "cell_type": "code",
   "execution_count": 238,
   "metadata": {},
   "outputs": [],
   "source": [
    "import pandas as pd\n",
    "import numpy as np\n",
    "import matplotlib.pyplot as plt\n",
    "import seaborn as sns\n",
    "from sklearn.preprocessing import LabelEncoder,StandardScaler\n",
    "from sklearn.model_selection import cross_val_score,GridSearchCV\n",
    "from sklearn.neighbors import KNeighborsClassifier\n",
    "from sklearn.model_selection import train_test_split\n",
    "from sklearn.ensemble import RandomForestClassifier,GradientBoostingClassifier,AdaBoostClassifier,StackingClassifier,VotingClassifier,BaggingClassifier\n",
    "from sklearn.metrics import accuracy_score,classification_report,confusion_matrix,f1_score,precision_score\n",
    "from sklearn.tree import DecisionTreeClassifier\n",
    "import sklearn\n",
    "from xgboost import XGBClassifier\n",
    "from mlxtend.feature_selection import SequentialFeatureSelector as sfs\n",
    "from sklearn.naive_bayes import GaussianNB\n",
    "from sklearn.linear_model import LogisticRegression\n",
    "from statsmodels.stats.outliers_influence import variance_inflation_factor as vif"
   ]
  },
  {
   "cell_type": "code",
   "execution_count": 87,
   "metadata": {},
   "outputs": [],
   "source": [
    "plt.rcParams[\"figure.figsize\"] = (15,8)"
   ]
  },
  {
   "cell_type": "code",
   "execution_count": 262,
   "metadata": {},
   "outputs": [],
   "source": [
    "train = pd.read_csv('Train_Set.csv')"
   ]
  },
  {
   "cell_type": "code",
   "execution_count": 263,
   "metadata": {},
   "outputs": [
    {
     "name": "stdout",
     "output_type": "stream",
     "text": [
      "<class 'pandas.core.frame.DataFrame'>\n",
      "RangeIndex: 126363 entries, 0 to 126362\n",
      "Data columns (total 28 columns):\n",
      " #   Column              Non-Null Count   Dtype  \n",
      "---  ------              --------------   -----  \n",
      " 0   OrderId             126363 non-null  int64  \n",
      " 1   Customer_Id         126363 non-null  int64  \n",
      " 2   Customer_Category   126363 non-null  object \n",
      " 3   Cust_State          126363 non-null  object \n",
      " 4   Zipcode             126363 non-null  int64  \n",
      " 5   Sales               122749 non-null  float64\n",
      " 6   Order_zone          126363 non-null  object \n",
      " 7   Price               126363 non-null  float64\n",
      " 8   CategoryName        126363 non-null  object \n",
      " 9   Transcation         126363 non-null  object \n",
      " 10  Dept_Id             126363 non-null  int64  \n",
      " 11  Dept_Name           126363 non-null  object \n",
      " 12  Profit_Ratio        126363 non-null  float64\n",
      " 13  Discount            121313 non-null  float64\n",
      " 14  Quantity            126363 non-null  int64  \n",
      " 15  Order_Profit        126363 non-null  float64\n",
      " 16  Product_type        126363 non-null  object \n",
      " 17  Prod_Category_Id    126363 non-null  int64  \n",
      " 18  ProductLength       123417 non-null  float64\n",
      " 19  ProductWeight       125668 non-null  float64\n",
      " 20  Dispatched          126363 non-null  int64  \n",
      " 21  Shipping_Class      126363 non-null  object \n",
      " 22  Scheduled_Shipping  126363 non-null  int64  \n",
      " 23  Warehouse_Region    126363 non-null  object \n",
      " 24  Delivery_Review     117298 non-null  float64\n",
      " 25  Session_Ordered     121571 non-null  float64\n",
      " 26  WeekdayOrder        126363 non-null  int64  \n",
      " 27  Delivery_Status     126363 non-null  int64  \n",
      "dtypes: float64(9), int64(10), object(9)\n",
      "memory usage: 27.0+ MB\n"
     ]
    }
   ],
   "source": [
    "train.info()"
   ]
  },
  {
   "cell_type": "code",
   "execution_count": 264,
   "metadata": {},
   "outputs": [
    {
     "data": {
      "text/html": [
       "<div>\n",
       "<style scoped>\n",
       "    .dataframe tbody tr th:only-of-type {\n",
       "        vertical-align: middle;\n",
       "    }\n",
       "\n",
       "    .dataframe tbody tr th {\n",
       "        vertical-align: top;\n",
       "    }\n",
       "\n",
       "    .dataframe thead th {\n",
       "        text-align: right;\n",
       "    }\n",
       "</style>\n",
       "<table border=\"1\" class=\"dataframe\">\n",
       "  <thead>\n",
       "    <tr style=\"text-align: right;\">\n",
       "      <th></th>\n",
       "      <th>OrderId</th>\n",
       "      <th>Customer_Id</th>\n",
       "      <th>Customer_Category</th>\n",
       "      <th>Cust_State</th>\n",
       "      <th>Zipcode</th>\n",
       "      <th>Sales</th>\n",
       "      <th>Order_zone</th>\n",
       "      <th>Price</th>\n",
       "      <th>CategoryName</th>\n",
       "      <th>Transcation</th>\n",
       "      <th>...</th>\n",
       "      <th>ProductLength</th>\n",
       "      <th>ProductWeight</th>\n",
       "      <th>Dispatched</th>\n",
       "      <th>Shipping_Class</th>\n",
       "      <th>Scheduled_Shipping</th>\n",
       "      <th>Warehouse_Region</th>\n",
       "      <th>Delivery_Review</th>\n",
       "      <th>Session_Ordered</th>\n",
       "      <th>WeekdayOrder</th>\n",
       "      <th>Delivery_Status</th>\n",
       "    </tr>\n",
       "  </thead>\n",
       "  <tbody>\n",
       "    <tr>\n",
       "      <th>0</th>\n",
       "      <td>2477882</td>\n",
       "      <td>12386</td>\n",
       "      <td>Consumer</td>\n",
       "      <td>AR</td>\n",
       "      <td>19120</td>\n",
       "      <td>150.0</td>\n",
       "      <td>Central</td>\n",
       "      <td>4383.39</td>\n",
       "      <td>Cat-2</td>\n",
       "      <td>UPI</td>\n",
       "      <td>...</td>\n",
       "      <td>191.0</td>\n",
       "      <td>1592.0</td>\n",
       "      <td>0</td>\n",
       "      <td>Standard</td>\n",
       "      <td>4</td>\n",
       "      <td>NORTH</td>\n",
       "      <td>5.0</td>\n",
       "      <td>2.0</td>\n",
       "      <td>0</td>\n",
       "      <td>0</td>\n",
       "    </tr>\n",
       "    <tr>\n",
       "      <th>1</th>\n",
       "      <td>2477895</td>\n",
       "      <td>2630</td>\n",
       "      <td>Consumer</td>\n",
       "      <td>BR</td>\n",
       "      <td>2907</td>\n",
       "      <td>165.0</td>\n",
       "      <td>East</td>\n",
       "      <td>4295.72</td>\n",
       "      <td>Cat-2</td>\n",
       "      <td>UPI</td>\n",
       "      <td>...</td>\n",
       "      <td>79.0</td>\n",
       "      <td>1420.0</td>\n",
       "      <td>0</td>\n",
       "      <td>Standard</td>\n",
       "      <td>6</td>\n",
       "      <td>NORTH</td>\n",
       "      <td>2.0</td>\n",
       "      <td>2.0</td>\n",
       "      <td>1</td>\n",
       "      <td>0</td>\n",
       "    </tr>\n",
       "    <tr>\n",
       "      <th>2</th>\n",
       "      <td>2473260</td>\n",
       "      <td>1752</td>\n",
       "      <td>Corporate</td>\n",
       "      <td>RJ</td>\n",
       "      <td>90214</td>\n",
       "      <td>171.0</td>\n",
       "      <td>South</td>\n",
       "      <td>3616.65</td>\n",
       "      <td>Cat-50</td>\n",
       "      <td>Cash</td>\n",
       "      <td>...</td>\n",
       "      <td>67.0</td>\n",
       "      <td>1231.0</td>\n",
       "      <td>0</td>\n",
       "      <td>Standard</td>\n",
       "      <td>6</td>\n",
       "      <td>SOUTH</td>\n",
       "      <td>4.0</td>\n",
       "      <td>2.0</td>\n",
       "      <td>0</td>\n",
       "      <td>1</td>\n",
       "    </tr>\n",
       "    <tr>\n",
       "      <th>3</th>\n",
       "      <td>2466916</td>\n",
       "      <td>9268</td>\n",
       "      <td>Consumer</td>\n",
       "      <td>UP</td>\n",
       "      <td>745</td>\n",
       "      <td>132.0</td>\n",
       "      <td>East</td>\n",
       "      <td>9175.86</td>\n",
       "      <td>Cat-12</td>\n",
       "      <td>Credit</td>\n",
       "      <td>...</td>\n",
       "      <td>45.0</td>\n",
       "      <td>NaN</td>\n",
       "      <td>1</td>\n",
       "      <td>2A</td>\n",
       "      <td>4</td>\n",
       "      <td>NORTH</td>\n",
       "      <td>4.0</td>\n",
       "      <td>3.0</td>\n",
       "      <td>1</td>\n",
       "      <td>1</td>\n",
       "    </tr>\n",
       "    <tr>\n",
       "      <th>4</th>\n",
       "      <td>2351480</td>\n",
       "      <td>2888</td>\n",
       "      <td>Corporate</td>\n",
       "      <td>UP</td>\n",
       "      <td>92427</td>\n",
       "      <td>NaN</td>\n",
       "      <td>North</td>\n",
       "      <td>2779.29</td>\n",
       "      <td>Cat-3</td>\n",
       "      <td>UPI</td>\n",
       "      <td>...</td>\n",
       "      <td>43.0</td>\n",
       "      <td>1018.0</td>\n",
       "      <td>1</td>\n",
       "      <td>Standard</td>\n",
       "      <td>5</td>\n",
       "      <td>CENTRAL</td>\n",
       "      <td>2.0</td>\n",
       "      <td>1.0</td>\n",
       "      <td>0</td>\n",
       "      <td>1</td>\n",
       "    </tr>\n",
       "  </tbody>\n",
       "</table>\n",
       "<p>5 rows × 28 columns</p>\n",
       "</div>"
      ],
      "text/plain": [
       "   OrderId  Customer_Id Customer_Category Cust_State  Zipcode  Sales  \\\n",
       "0  2477882        12386          Consumer         AR    19120  150.0   \n",
       "1  2477895         2630          Consumer         BR     2907  165.0   \n",
       "2  2473260         1752         Corporate         RJ    90214  171.0   \n",
       "3  2466916         9268          Consumer         UP      745  132.0   \n",
       "4  2351480         2888         Corporate         UP    92427    NaN   \n",
       "\n",
       "  Order_zone    Price CategoryName Transcation  ...  ProductLength  \\\n",
       "0    Central  4383.39        Cat-2         UPI  ...          191.0   \n",
       "1       East  4295.72        Cat-2         UPI  ...           79.0   \n",
       "2      South  3616.65       Cat-50        Cash  ...           67.0   \n",
       "3       East  9175.86       Cat-12      Credit  ...           45.0   \n",
       "4      North  2779.29        Cat-3         UPI  ...           43.0   \n",
       "\n",
       "  ProductWeight  Dispatched  Shipping_Class  Scheduled_Shipping  \\\n",
       "0        1592.0           0        Standard                   4   \n",
       "1        1420.0           0        Standard                   6   \n",
       "2        1231.0           0        Standard                   6   \n",
       "3           NaN           1              2A                   4   \n",
       "4        1018.0           1        Standard                   5   \n",
       "\n",
       "   Warehouse_Region Delivery_Review  Session_Ordered  WeekdayOrder  \\\n",
       "0             NORTH             5.0              2.0             0   \n",
       "1             NORTH             2.0              2.0             1   \n",
       "2             SOUTH             4.0              2.0             0   \n",
       "3             NORTH             4.0              3.0             1   \n",
       "4           CENTRAL             2.0              1.0             0   \n",
       "\n",
       "   Delivery_Status  \n",
       "0                0  \n",
       "1                0  \n",
       "2                1  \n",
       "3                1  \n",
       "4                1  \n",
       "\n",
       "[5 rows x 28 columns]"
      ]
     },
     "execution_count": 264,
     "metadata": {},
     "output_type": "execute_result"
    }
   ],
   "source": [
    "train.head()"
   ]
  },
  {
   "cell_type": "code",
   "execution_count": 265,
   "metadata": {},
   "outputs": [],
   "source": [
    "train['Sales'] = train['Sales'].fillna(train['Sales'].mean())\n",
    "train['Discount'] = train['Discount'].fillna(train['Discount'].mean())\n",
    "train['ProductLength'] = train['ProductLength'].fillna(train['ProductLength'].mean())\n",
    "train['ProductWeight'] = train['ProductWeight'].fillna(train['ProductWeight'].mean())"
   ]
  },
  {
   "cell_type": "markdown",
   "metadata": {},
   "source": [
    "# "
   ]
  },
  {
   "cell_type": "markdown",
   "metadata": {},
   "source": [
    "# "
   ]
  },
  {
   "cell_type": "markdown",
   "metadata": {},
   "source": [
    "# "
   ]
  },
  {
   "cell_type": "markdown",
   "metadata": {},
   "source": [
    "# "
   ]
  },
  {
   "cell_type": "markdown",
   "metadata": {},
   "source": [
    "# "
   ]
  },
  {
   "cell_type": "markdown",
   "metadata": {},
   "source": [
    "# "
   ]
  },
  {
   "cell_type": "code",
   "execution_count": 266,
   "metadata": {},
   "outputs": [],
   "source": [
    "train['Delivery_Review'].fillna(train['Delivery_Review'].mode()[0],inplace=True)\n",
    "train['Session_Ordered'].fillna(train['Session_Ordered'].mode()[0],inplace=True)"
   ]
  },
  {
   "cell_type": "code",
   "execution_count": 267,
   "metadata": {},
   "outputs": [],
   "source": [
    "train['Quantity'] = train['Quantity'].astype(object)\n",
    "train['Dispatched'] = train['Dispatched'].astype(object)\n",
    "train['Scheduled_Shipping'] = train['Scheduled_Shipping'].astype(object)\n",
    "train['Delivery_Review'] = train['Delivery_Review'].astype(object)\n",
    "train['Session_Ordered'] = train['Session_Ordered'].astype(object)\n",
    "train['WeekdayOrder'] = train['WeekdayOrder'].astype(object)"
   ]
  },
  {
   "cell_type": "code",
   "execution_count": 268,
   "metadata": {},
   "outputs": [
    {
     "name": "stdout",
     "output_type": "stream",
     "text": [
      "<class 'pandas.core.frame.DataFrame'>\n",
      "RangeIndex: 126363 entries, 0 to 126362\n",
      "Data columns (total 28 columns):\n",
      " #   Column              Non-Null Count   Dtype  \n",
      "---  ------              --------------   -----  \n",
      " 0   OrderId             126363 non-null  int64  \n",
      " 1   Customer_Id         126363 non-null  int64  \n",
      " 2   Customer_Category   126363 non-null  object \n",
      " 3   Cust_State          126363 non-null  object \n",
      " 4   Zipcode             126363 non-null  int64  \n",
      " 5   Sales               126363 non-null  float64\n",
      " 6   Order_zone          126363 non-null  object \n",
      " 7   Price               126363 non-null  float64\n",
      " 8   CategoryName        126363 non-null  object \n",
      " 9   Transcation         126363 non-null  object \n",
      " 10  Dept_Id             126363 non-null  int64  \n",
      " 11  Dept_Name           126363 non-null  object \n",
      " 12  Profit_Ratio        126363 non-null  float64\n",
      " 13  Discount            126363 non-null  float64\n",
      " 14  Quantity            126363 non-null  object \n",
      " 15  Order_Profit        126363 non-null  float64\n",
      " 16  Product_type        126363 non-null  object \n",
      " 17  Prod_Category_Id    126363 non-null  int64  \n",
      " 18  ProductLength       126363 non-null  float64\n",
      " 19  ProductWeight       126363 non-null  float64\n",
      " 20  Dispatched          126363 non-null  object \n",
      " 21  Shipping_Class      126363 non-null  object \n",
      " 22  Scheduled_Shipping  126363 non-null  object \n",
      " 23  Warehouse_Region    126363 non-null  object \n",
      " 24  Delivery_Review     126363 non-null  object \n",
      " 25  Session_Ordered     126363 non-null  object \n",
      " 26  WeekdayOrder        126363 non-null  object \n",
      " 27  Delivery_Status     126363 non-null  int64  \n",
      "dtypes: float64(7), int64(6), object(15)\n",
      "memory usage: 27.0+ MB\n"
     ]
    }
   ],
   "source": [
    "train.info()"
   ]
  },
  {
   "cell_type": "code",
   "execution_count": 269,
   "metadata": {},
   "outputs": [],
   "source": [
    "train['StateRegion'] = train['Cust_State'].replace(['JK','HR','HP','UK','UP'],'NORTH')\n",
    "train['StateRegion'] = train['StateRegion'].replace(['RJ','GJ','MP','MA'],'WEST')\n",
    "train['StateRegion'] = train['StateRegion'].replace(['KL','TEL','AP','KA'],'SOUTH')\n",
    "train['StateRegion'] = train['StateRegion'].replace(['WB','PB','OR','AR','BR'],'EAST')\n"
   ]
  },
  {
   "cell_type": "code",
   "execution_count": 270,
   "metadata": {},
   "outputs": [],
   "source": [
    "train = train.drop(['Dept_Id','CategoryName','Cust_State','Customer_Id'],axis=1)"
   ]
  },
  {
   "cell_type": "code",
   "execution_count": 255,
   "metadata": {},
   "outputs": [
    {
     "data": {
      "text/html": [
       "<div>\n",
       "<style scoped>\n",
       "    .dataframe tbody tr th:only-of-type {\n",
       "        vertical-align: middle;\n",
       "    }\n",
       "\n",
       "    .dataframe tbody tr th {\n",
       "        vertical-align: top;\n",
       "    }\n",
       "\n",
       "    .dataframe thead th {\n",
       "        text-align: right;\n",
       "    }\n",
       "</style>\n",
       "<table border=\"1\" class=\"dataframe\">\n",
       "  <thead>\n",
       "    <tr style=\"text-align: right;\">\n",
       "      <th></th>\n",
       "      <th>OrderId</th>\n",
       "      <th>Zipcode</th>\n",
       "      <th>Sales</th>\n",
       "      <th>Price</th>\n",
       "      <th>Profit_Ratio</th>\n",
       "      <th>Discount</th>\n",
       "      <th>Order_Profit</th>\n",
       "      <th>Prod_Category_Id</th>\n",
       "      <th>ProductLength</th>\n",
       "      <th>ProductWeight</th>\n",
       "      <th>Delivery_Status</th>\n",
       "    </tr>\n",
       "  </thead>\n",
       "  <tbody>\n",
       "    <tr>\n",
       "      <th>count</th>\n",
       "      <td>1.263630e+05</td>\n",
       "      <td>126363.000000</td>\n",
       "      <td>126363.000000</td>\n",
       "      <td>126363.000000</td>\n",
       "      <td>126363.000000</td>\n",
       "      <td>126363.000000</td>\n",
       "      <td>126363.000000</td>\n",
       "      <td>126363.000000</td>\n",
       "      <td>126363.000000</td>\n",
       "      <td>126363.000000</td>\n",
       "      <td>126363.000000</td>\n",
       "    </tr>\n",
       "    <tr>\n",
       "      <th>mean</th>\n",
       "      <td>2.431880e+06</td>\n",
       "      <td>35961.067029</td>\n",
       "      <td>196.119952</td>\n",
       "      <td>10064.758724</td>\n",
       "      <td>0.124273</td>\n",
       "      <td>0.105450</td>\n",
       "      <td>1257.016748</td>\n",
       "      <td>31.863030</td>\n",
       "      <td>95.976178</td>\n",
       "      <td>3747.630431</td>\n",
       "      <td>0.328031</td>\n",
       "    </tr>\n",
       "    <tr>\n",
       "      <th>std</th>\n",
       "      <td>5.212524e+04</td>\n",
       "      <td>37550.046447</td>\n",
       "      <td>119.699363</td>\n",
       "      <td>9923.788862</td>\n",
       "      <td>0.467546</td>\n",
       "      <td>0.070869</td>\n",
       "      <td>6690.787375</td>\n",
       "      <td>15.652067</td>\n",
       "      <td>54.713277</td>\n",
       "      <td>7598.853566</td>\n",
       "      <td>0.469498</td>\n",
       "    </tr>\n",
       "    <tr>\n",
       "      <th>min</th>\n",
       "      <td>2.341525e+06</td>\n",
       "      <td>12.000000</td>\n",
       "      <td>28.000000</td>\n",
       "      <td>617.310000</td>\n",
       "      <td>-2.750000</td>\n",
       "      <td>0.000000</td>\n",
       "      <td>-271606.420000</td>\n",
       "      <td>2.000000</td>\n",
       "      <td>10.000000</td>\n",
       "      <td>10.000000</td>\n",
       "      <td>0.000000</td>\n",
       "    </tr>\n",
       "    <tr>\n",
       "      <th>25%</th>\n",
       "      <td>2.386692e+06</td>\n",
       "      <td>742.000000</td>\n",
       "      <td>114.000000</td>\n",
       "      <td>3587.760000</td>\n",
       "      <td>0.080000</td>\n",
       "      <td>0.040000</td>\n",
       "      <td>314.080000</td>\n",
       "      <td>18.000000</td>\n",
       "      <td>52.000000</td>\n",
       "      <td>764.000000</td>\n",
       "      <td>0.000000</td>\n",
       "    </tr>\n",
       "    <tr>\n",
       "      <th>50%</th>\n",
       "      <td>2.432005e+06</td>\n",
       "      <td>19168.000000</td>\n",
       "      <td>177.000000</td>\n",
       "      <td>4415.280000</td>\n",
       "      <td>0.280000</td>\n",
       "      <td>0.105450</td>\n",
       "      <td>1258.740000</td>\n",
       "      <td>29.000000</td>\n",
       "      <td>85.000000</td>\n",
       "      <td>1649.000000</td>\n",
       "      <td>0.000000</td>\n",
       "    </tr>\n",
       "    <tr>\n",
       "      <th>75%</th>\n",
       "      <td>2.477044e+06</td>\n",
       "      <td>78219.000000</td>\n",
       "      <td>257.000000</td>\n",
       "      <td>14222.400000</td>\n",
       "      <td>0.370000</td>\n",
       "      <td>0.160000</td>\n",
       "      <td>3119.900000</td>\n",
       "      <td>45.000000</td>\n",
       "      <td>139.000000</td>\n",
       "      <td>2745.000000</td>\n",
       "      <td>1.000000</td>\n",
       "    </tr>\n",
       "    <tr>\n",
       "      <th>max</th>\n",
       "      <td>2.522043e+06</td>\n",
       "      <td>99225.000000</td>\n",
       "      <td>1969.000000</td>\n",
       "      <td>142151.340000</td>\n",
       "      <td>0.500000</td>\n",
       "      <td>0.250000</td>\n",
       "      <td>68156.670000</td>\n",
       "      <td>76.000000</td>\n",
       "      <td>210.000000</td>\n",
       "      <td>43999.000000</td>\n",
       "      <td>1.000000</td>\n",
       "    </tr>\n",
       "  </tbody>\n",
       "</table>\n",
       "</div>"
      ],
      "text/plain": [
       "            OrderId        Zipcode          Sales          Price  \\\n",
       "count  1.263630e+05  126363.000000  126363.000000  126363.000000   \n",
       "mean   2.431880e+06   35961.067029     196.119952   10064.758724   \n",
       "std    5.212524e+04   37550.046447     119.699363    9923.788862   \n",
       "min    2.341525e+06      12.000000      28.000000     617.310000   \n",
       "25%    2.386692e+06     742.000000     114.000000    3587.760000   \n",
       "50%    2.432005e+06   19168.000000     177.000000    4415.280000   \n",
       "75%    2.477044e+06   78219.000000     257.000000   14222.400000   \n",
       "max    2.522043e+06   99225.000000    1969.000000  142151.340000   \n",
       "\n",
       "        Profit_Ratio       Discount  Order_Profit   Prod_Category_Id  \\\n",
       "count  126363.000000  126363.000000  126363.000000     126363.000000   \n",
       "mean        0.124273       0.105450    1257.016748         31.863030   \n",
       "std         0.467546       0.070869    6690.787375         15.652067   \n",
       "min        -2.750000       0.000000 -271606.420000          2.000000   \n",
       "25%         0.080000       0.040000     314.080000         18.000000   \n",
       "50%         0.280000       0.105450    1258.740000         29.000000   \n",
       "75%         0.370000       0.160000    3119.900000         45.000000   \n",
       "max         0.500000       0.250000   68156.670000         76.000000   \n",
       "\n",
       "       ProductLength  ProductWeight  Delivery_Status  \n",
       "count  126363.000000  126363.000000    126363.000000  \n",
       "mean       95.976178    3747.630431         0.328031  \n",
       "std        54.713277    7598.853566         0.469498  \n",
       "min        10.000000      10.000000         0.000000  \n",
       "25%        52.000000     764.000000         0.000000  \n",
       "50%        85.000000    1649.000000         0.000000  \n",
       "75%       139.000000    2745.000000         1.000000  \n",
       "max       210.000000   43999.000000         1.000000  "
      ]
     },
     "execution_count": 255,
     "metadata": {},
     "output_type": "execute_result"
    }
   ],
   "source": [
    "train.describe()"
   ]
  },
  {
   "cell_type": "code",
   "execution_count": 256,
   "metadata": {},
   "outputs": [
    {
     "data": {
      "text/plain": [
       "(126363, 25)"
      ]
     },
     "execution_count": 256,
     "metadata": {},
     "output_type": "execute_result"
    }
   ],
   "source": [
    "train.shape"
   ]
  },
  {
   "cell_type": "code",
   "execution_count": 257,
   "metadata": {},
   "outputs": [],
   "source": [
    "train_cat = train.select_dtypes(include='object')\n",
    "train_num = train.select_dtypes(include='number')"
   ]
  },
  {
   "cell_type": "code",
   "execution_count": 258,
   "metadata": {},
   "outputs": [
    {
     "data": {
      "text/html": [
       "<div>\n",
       "<style scoped>\n",
       "    .dataframe tbody tr th:only-of-type {\n",
       "        vertical-align: middle;\n",
       "    }\n",
       "\n",
       "    .dataframe tbody tr th {\n",
       "        vertical-align: top;\n",
       "    }\n",
       "\n",
       "    .dataframe thead th {\n",
       "        text-align: right;\n",
       "    }\n",
       "</style>\n",
       "<table border=\"1\" class=\"dataframe\">\n",
       "  <thead>\n",
       "    <tr style=\"text-align: right;\">\n",
       "      <th></th>\n",
       "      <th>VIF_Factor</th>\n",
       "      <th>Features</th>\n",
       "    </tr>\n",
       "  </thead>\n",
       "  <tbody>\n",
       "    <tr>\n",
       "      <th>0</th>\n",
       "      <td>15.609253</td>\n",
       "      <td>OrderId</td>\n",
       "    </tr>\n",
       "    <tr>\n",
       "      <th>1</th>\n",
       "      <td>9.351931</td>\n",
       "      <td>Sales</td>\n",
       "    </tr>\n",
       "    <tr>\n",
       "      <th>2</th>\n",
       "      <td>6.916055</td>\n",
       "      <td>Prod_Category_Id</td>\n",
       "    </tr>\n",
       "    <tr>\n",
       "      <th>3</th>\n",
       "      <td>6.286128</td>\n",
       "      <td>Price</td>\n",
       "    </tr>\n",
       "    <tr>\n",
       "      <th>4</th>\n",
       "      <td>5.107135</td>\n",
       "      <td>ProductLength</td>\n",
       "    </tr>\n",
       "    <tr>\n",
       "      <th>5</th>\n",
       "      <td>3.313617</td>\n",
       "      <td>Discount</td>\n",
       "    </tr>\n",
       "    <tr>\n",
       "      <th>6</th>\n",
       "      <td>2.223767</td>\n",
       "      <td>Order_Profit</td>\n",
       "    </tr>\n",
       "    <tr>\n",
       "      <th>7</th>\n",
       "      <td>2.210931</td>\n",
       "      <td>Profit_Ratio</td>\n",
       "    </tr>\n",
       "    <tr>\n",
       "      <th>8</th>\n",
       "      <td>1.909425</td>\n",
       "      <td>Zipcode</td>\n",
       "    </tr>\n",
       "    <tr>\n",
       "      <th>9</th>\n",
       "      <td>1.571786</td>\n",
       "      <td>ProductWeight</td>\n",
       "    </tr>\n",
       "  </tbody>\n",
       "</table>\n",
       "</div>"
      ],
      "text/plain": [
       "   VIF_Factor          Features\n",
       "0   15.609253           OrderId\n",
       "1    9.351931             Sales\n",
       "2    6.916055  Prod_Category_Id\n",
       "3    6.286128             Price\n",
       "4    5.107135     ProductLength\n",
       "5    3.313617          Discount\n",
       "6    2.223767     Order_Profit \n",
       "7    2.210931      Profit_Ratio\n",
       "8    1.909425           Zipcode\n",
       "9    1.571786     ProductWeight"
      ]
     },
     "execution_count": 258,
     "metadata": {},
     "output_type": "execute_result"
    }
   ],
   "source": [
    "vif_df = pd.DataFrame()\n",
    "vif_df[\"VIF_Factor\"] = [vif(train_num.drop('Delivery_Status',axis=1).values, i) for i in range(train_num.drop('Delivery_Status',axis=1).shape[1])]\n",
    "vif_df[\"Features\"] = train_num.drop('Delivery_Status',axis=1).columns\n",
    "vif_df.sort_values('VIF_Factor', ascending = False).reset_index(drop = True)"
   ]
  },
  {
   "cell_type": "code",
   "execution_count": 103,
   "metadata": {},
   "outputs": [
    {
     "data": {
      "text/plain": [
       "<AxesSubplot:>"
      ]
     },
     "execution_count": 103,
     "metadata": {},
     "output_type": "execute_result"
    },
    {
     "data": {
      "image/png": "[encoded data removed]",
      "text/plain": [
       "<Figure size 1080x576 with 2 Axes>"
      ]
     },
     "metadata": {
      "needs_background": "light"
     },
     "output_type": "display_data"
    }
   ],
   "source": [
    "sns.heatmap(train_num.drop('Sales',axis=1).corr(),annot=True)"
   ]
  },
  {
   "cell_type": "code",
   "execution_count": null,
   "metadata": {},
   "outputs": [],
   "source": []
  },
  {
   "cell_type": "code",
   "execution_count": 104,
   "metadata": {},
   "outputs": [
    {
     "name": "stdout",
     "output_type": "stream",
     "text": [
      "Customer_Category\n",
      "Consumer     65464\n",
      "Corporate    38360\n",
      "others       22539\n",
      "Name: Customer_Category, dtype: int64\n",
      "\n",
      "\n",
      "Order_zone\n",
      "North      25375\n",
      "South      25327\n",
      "East       25257\n",
      "Central    25230\n",
      "West       25174\n",
      "Name: Order_zone, dtype: int64\n",
      "\n",
      "\n",
      "Transcation\n",
      "Debit     48586\n",
      "UPI       34947\n",
      "Credit    29113\n",
      "Cash      13717\n",
      "Name: Transcation, dtype: int64\n",
      "\n",
      "\n",
      "Dept_Name\n",
      "Fan Shop              46834\n",
      "Apparel               34328\n",
      "Golf                  23209\n",
      "Footwear              10142\n",
      "Outdoors               6794\n",
      "Fitness                1736\n",
      "Discs Shop             1455\n",
      "Technology             1014\n",
      "Pet Shop                336\n",
      "Book Shop               272\n",
      "Health and Beauty       243\n",
      "Name: Dept_Name, dtype: int64\n",
      "\n",
      "\n",
      "Quantity\n",
      "1    69417\n",
      "5    14306\n",
      "4    14304\n",
      "3    14224\n",
      "2    14112\n",
      "Name: Quantity, dtype: int64\n",
      "\n",
      "\n",
      "Product_type\n",
      "Not Fragile    71204\n",
      "Fragile        55159\n",
      "Name: Product_type, dtype: int64\n",
      "\n",
      "\n",
      "Dispatched\n",
      "0    76543\n",
      "1    49820\n",
      "Name: Dispatched, dtype: int64\n",
      "\n",
      "\n",
      "Shipping_Class\n",
      "Standard    75433\n",
      "2A          24682\n",
      "1A          19427\n",
      "Elite        6821\n",
      "Name: Shipping_Class, dtype: int64\n",
      "\n",
      "\n",
      "Scheduled_Shipping\n",
      "4    30256\n",
      "2    27604\n",
      "3    25045\n",
      "6    20138\n",
      "5    19757\n",
      "0     3563\n",
      "Name: Scheduled_Shipping, dtype: int64\n",
      "\n",
      "\n",
      "Warehouse_Region\n",
      "NORTH      36043\n",
      "CENTRAL    35194\n",
      "SOUTH      28863\n",
      "WEST       18102\n",
      "NE          8161\n",
      "Name: Warehouse_Region, dtype: int64\n",
      "\n",
      "\n",
      "Delivery_Review\n",
      "4.0    51925\n",
      "3.0    41201\n",
      "2.0    19732\n",
      "5.0    11640\n",
      "1.0     1865\n",
      "Name: Delivery_Review, dtype: int64\n",
      "\n",
      "\n",
      "Session_Ordered\n",
      "2.0    45665\n",
      "3.0    40440\n",
      "1.0    40258\n",
      "Name: Session_Ordered, dtype: int64\n",
      "\n",
      "\n",
      "WeekdayOrder\n",
      "0    63444\n",
      "1    62919\n",
      "Name: WeekdayOrder, dtype: int64\n",
      "\n",
      "\n",
      "StateRegion\n",
      "EAST     35139\n",
      "NORTH    35004\n",
      "WEST     28201\n",
      "SOUTH    28019\n",
      "Name: StateRegion, dtype: int64\n",
      "\n",
      "\n"
     ]
    }
   ],
   "source": [
    "for i in train_cat.columns:\n",
    "    print(i)\n",
    "    print(train_cat[i].value_counts())\n",
    "    print()\n",
    "    print()"
   ]
  },
  {
   "cell_type": "code",
   "execution_count": 271,
   "metadata": {},
   "outputs": [],
   "source": [
    "\n",
    "train['Dept_Name_masked']  = train['Dept_Name'].replace(['Fan Shop','Discs Shop','Pet Shop','Book Shop'],'shops')\n",
    "train['Dept_Name_masked']  = train['Dept_Name_masked'] .replace(['Apparel','Footwear','Health and Beauty '],'Fashion')\n",
    "train['Dept_Name_masked']  = train['Dept_Name_masked'] .replace(['Golf','Fitness','Outdoors','Technology'],'activity')"
   ]
  },
  {
   "cell_type": "code",
   "execution_count": 272,
   "metadata": {},
   "outputs": [],
   "source": [
    "train.drop(['Dept_Name'],axis=True,inplace=True)"
   ]
  },
  {
   "cell_type": "code",
   "execution_count": 273,
   "metadata": {},
   "outputs": [
    {
     "data": {
      "text/plain": [
       "Index(['OrderId', 'Customer_Category', 'Zipcode', 'Sales', 'Order_zone',\n",
       "       'Price', 'Transcation', 'Profit_Ratio', 'Discount', 'Quantity',\n",
       "       'Order_Profit ', 'Product_type', 'Prod_Category_Id', 'ProductLength',\n",
       "       'ProductWeight', 'Dispatched', 'Shipping_Class', 'Scheduled_Shipping',\n",
       "       'Warehouse_Region', 'Delivery_Review', 'Session_Ordered',\n",
       "       'WeekdayOrder', 'Delivery_Status', 'StateRegion', 'Dept_Name_masked'],\n",
       "      dtype='object')"
      ]
     },
     "execution_count": 273,
     "metadata": {},
     "output_type": "execute_result"
    }
   ],
   "source": [
    "train.columns"
   ]
  },
  {
   "cell_type": "code",
   "execution_count": 59,
   "metadata": {},
   "outputs": [
    {
     "name": "stdout",
     "output_type": "stream",
     "text": [
      "Customer_Id\n"
     ]
    },
    {
     "name": "stderr",
     "output_type": "stream",
     "text": [
      "C:\\Users\\aniru\\anaconda3\\lib\\site-packages\\seaborn\\_decorators.py:36: FutureWarning: Pass the following variable as a keyword arg: x. From version 0.12, the only valid positional argument will be `data`, and passing other arguments without an explicit keyword will result in an error or misinterpretation.\n",
      "  warnings.warn(\n"
     ]
    },
    {
     "data": {
      "image/png": "[encoded data removed]",
      "text/plain": [
       "<Figure size 1080x576 with 1 Axes>"
      ]
     },
     "metadata": {
      "needs_background": "light"
     },
     "output_type": "display_data"
    },
    {
     "name": "stdout",
     "output_type": "stream",
     "text": [
      "Zipcode\n"
     ]
    },
    {
     "name": "stderr",
     "output_type": "stream",
     "text": [
      "C:\\Users\\aniru\\anaconda3\\lib\\site-packages\\seaborn\\_decorators.py:36: FutureWarning: Pass the following variable as a keyword arg: x. From version 0.12, the only valid positional argument will be `data`, and passing other arguments without an explicit keyword will result in an error or misinterpretation.\n",
      "  warnings.warn(\n"
     ]
    },
    {
     "data": {
      "image/png": "[encoded data removed]",
      "text/plain": [
       "<Figure size 1080x576 with 1 Axes>"
      ]
     },
     "metadata": {
      "needs_background": "light"
     },
     "output_type": "display_data"
    },
    {
     "name": "stdout",
     "output_type": "stream",
     "text": [
      "Sales\n"
     ]
    },
    {
     "name": "stderr",
     "output_type": "stream",
     "text": [
      "C:\\Users\\aniru\\anaconda3\\lib\\site-packages\\seaborn\\_decorators.py:36: FutureWarning: Pass the following variable as a keyword arg: x. From version 0.12, the only valid positional argument will be `data`, and passing other arguments without an explicit keyword will result in an error or misinterpretation.\n",
      "  warnings.warn(\n"
     ]
    },
    {
     "data": {
      "image/png": "[encoded data removed]",
      "text/plain": [
       "<Figure size 1080x576 with 1 Axes>"
      ]
     },
     "metadata": {
      "needs_background": "light"
     },
     "output_type": "display_data"
    },
    {
     "name": "stdout",
     "output_type": "stream",
     "text": [
      "Price\n"
     ]
    },
    {
     "name": "stderr",
     "output_type": "stream",
     "text": [
      "C:\\Users\\aniru\\anaconda3\\lib\\site-packages\\seaborn\\_decorators.py:36: FutureWarning: Pass the following variable as a keyword arg: x. From version 0.12, the only valid positional argument will be `data`, and passing other arguments without an explicit keyword will result in an error or misinterpretation.\n",
      "  warnings.warn(\n"
     ]
    },
    {
     "data": {
      "image/png": "[encoded data removed]",
      "text/plain": [
       "<Figure size 1080x576 with 1 Axes>"
      ]
     },
     "metadata": {
      "needs_background": "light"
     },
     "output_type": "display_data"
    },
    {
     "name": "stderr",
     "output_type": "stream",
     "text": [
      "C:\\Users\\aniru\\anaconda3\\lib\\site-packages\\seaborn\\_decorators.py:36: FutureWarning: Pass the following variable as a keyword arg: x. From version 0.12, the only valid positional argument will be `data`, and passing other arguments without an explicit keyword will result in an error or misinterpretation.\n",
      "  warnings.warn(\n"
     ]
    },
    {
     "name": "stdout",
     "output_type": "stream",
     "text": [
      "Profit_Ratio\n"
     ]
    },
    {
     "data": {
      "image/png": "[encoded data removed]",
      "text/plain": [
       "<Figure size 1080x576 with 1 Axes>"
      ]
     },
     "metadata": {
      "needs_background": "light"
     },
     "output_type": "display_data"
    },
    {
     "name": "stderr",
     "output_type": "stream",
     "text": [
      "C:\\Users\\aniru\\anaconda3\\lib\\site-packages\\seaborn\\_decorators.py:36: FutureWarning: Pass the following variable as a keyword arg: x. From version 0.12, the only valid positional argument will be `data`, and passing other arguments without an explicit keyword will result in an error or misinterpretation.\n",
      "  warnings.warn(\n"
     ]
    },
    {
     "name": "stdout",
     "output_type": "stream",
     "text": [
      "Discount\n"
     ]
    },
    {
     "data": {
      "image/png": "[encoded data removed]",
      "text/plain": [
       "<Figure size 1080x576 with 1 Axes>"
      ]
     },
     "metadata": {
      "needs_background": "light"
     },
     "output_type": "display_data"
    },
    {
     "name": "stderr",
     "output_type": "stream",
     "text": [
      "C:\\Users\\aniru\\anaconda3\\lib\\site-packages\\seaborn\\_decorators.py:36: FutureWarning: Pass the following variable as a keyword arg: x. From version 0.12, the only valid positional argument will be `data`, and passing other arguments without an explicit keyword will result in an error or misinterpretation.\n",
      "  warnings.warn(\n"
     ]
    },
    {
     "name": "stdout",
     "output_type": "stream",
     "text": [
      "Order_Profit \n"
     ]
    },
    {
     "data": {
      "image/png": "[encoded data removed]",
      "text/plain": [
       "<Figure size 1080x576 with 1 Axes>"
      ]
     },
     "metadata": {
      "needs_background": "light"
     },
     "output_type": "display_data"
    },
    {
     "name": "stderr",
     "output_type": "stream",
     "text": [
      "C:\\Users\\aniru\\anaconda3\\lib\\site-packages\\seaborn\\_decorators.py:36: FutureWarning: Pass the following variable as a keyword arg: x. From version 0.12, the only valid positional argument will be `data`, and passing other arguments without an explicit keyword will result in an error or misinterpretation.\n",
      "  warnings.warn(\n"
     ]
    },
    {
     "name": "stdout",
     "output_type": "stream",
     "text": [
      "Prod_Category_Id\n"
     ]
    },
    {
     "data": {
      "image/png": "[encoded data removed]",
      "text/plain": [
       "<Figure size 1080x576 with 1 Axes>"
      ]
     },
     "metadata": {
      "needs_background": "light"
     },
     "output_type": "display_data"
    },
    {
     "name": "stderr",
     "output_type": "stream",
     "text": [
      "C:\\Users\\aniru\\anaconda3\\lib\\site-packages\\seaborn\\_decorators.py:36: FutureWarning: Pass the following variable as a keyword arg: x. From version 0.12, the only valid positional argument will be `data`, and passing other arguments without an explicit keyword will result in an error or misinterpretation.\n",
      "  warnings.warn(\n"
     ]
    },
    {
     "name": "stdout",
     "output_type": "stream",
     "text": [
      "ProductLength\n"
     ]
    },
    {
     "data": {
      "image/png": "[encoded data removed]",
      "text/plain": [
       "<Figure size 1080x576 with 1 Axes>"
      ]
     },
     "metadata": {
      "needs_background": "light"
     },
     "output_type": "display_data"
    },
    {
     "name": "stdout",
     "output_type": "stream",
     "text": [
      "ProductWeight\n"
     ]
    },
    {
     "name": "stderr",
     "output_type": "stream",
     "text": [
      "C:\\Users\\aniru\\anaconda3\\lib\\site-packages\\seaborn\\_decorators.py:36: FutureWarning: Pass the following variable as a keyword arg: x. From version 0.12, the only valid positional argument will be `data`, and passing other arguments without an explicit keyword will result in an error or misinterpretation.\n",
      "  warnings.warn(\n"
     ]
    },
    {
     "data": {
      "image/png": "[encoded data removed]",
      "text/plain": [
       "<Figure size 1080x576 with 1 Axes>"
      ]
     },
     "metadata": {
      "needs_background": "light"
     },
     "output_type": "display_data"
    },
    {
     "name": "stdout",
     "output_type": "stream",
     "text": [
      "Delivery_Status\n"
     ]
    },
    {
     "name": "stderr",
     "output_type": "stream",
     "text": [
      "C:\\Users\\aniru\\anaconda3\\lib\\site-packages\\seaborn\\_decorators.py:36: FutureWarning: Pass the following variable as a keyword arg: x. From version 0.12, the only valid positional argument will be `data`, and passing other arguments without an explicit keyword will result in an error or misinterpretation.\n",
      "  warnings.warn(\n"
     ]
    },
    {
     "data": {
      "image/png": "[encoded data removed]",
      "text/plain": [
       "<Figure size 1080x576 with 1 Axes>"
      ]
     },
     "metadata": {
      "needs_background": "light"
     },
     "output_type": "display_data"
    }
   ],
   "source": [
    "for i in train_num.columns:\n",
    "    print(i)\n",
    "    sns.boxplot(train_num[i])\n",
    "    plt.show()"
   ]
  },
  {
   "cell_type": "code",
   "execution_count": null,
   "metadata": {},
   "outputs": [],
   "source": []
  },
  {
   "cell_type": "code",
   "execution_count": 124,
   "metadata": {},
   "outputs": [
    {
     "data": {
      "text/plain": [
       "(126363, 50)"
      ]
     },
     "execution_count": 124,
     "metadata": {},
     "output_type": "execute_result"
    }
   ],
   "source": [
    "train_df.shape # after masking product names"
   ]
  },
  {
   "cell_type": "code",
   "execution_count": 160,
   "metadata": {},
   "outputs": [
    {
     "data": {
      "text/plain": [
       "(126363, 10)"
      ]
     },
     "execution_count": 160,
     "metadata": {},
     "output_type": "execute_result"
    }
   ],
   "source": [
    "train_num.shape"
   ]
  },
  {
   "cell_type": "code",
   "execution_count": 278,
   "metadata": {},
   "outputs": [
    {
     "data": {
      "text/plain": [
       "(105492, 25)"
      ]
     },
     "execution_count": 278,
     "metadata": {},
     "output_type": "execute_result"
    }
   ],
   "source": [
    "Q1 = train.quantile(0.25)\n",
    "\n",
    "# calculate the third quartile\n",
    "Q3 = train.quantile(0.75)\n",
    "\n",
    "# The Interquartile Range (IQR) is defined as the difference between the third and first quartile\n",
    "# calculate IQR for each numeric variable\n",
    "IQR = Q3 - Q1\n",
    "\n",
    "# retrieve the dataframe without the outliers\n",
    "# '~' returns the values that do not satisfy the given conditions \n",
    "# i.e. it returns values between the range [Q1-1.5*IQR, Q3+1.5*IQR]\n",
    "# '|' is used as 'OR' operator on multiple conditions   \n",
    "# 'any(axis=1)' checks the entire row for atleast one 'True' entry (the rows represent outliers in the data)\n",
    "train_otlrs = train[~((train < (Q1 - 3 * IQR)) | (train> (Q3 + 3 * IQR))).any(axis=1)]\n",
    "\n",
    "# check the shape of the data\n",
    "train_otlrs.shape"
   ]
  },
  {
   "cell_type": "code",
   "execution_count": 279,
   "metadata": {},
   "outputs": [],
   "source": [
    "train_df = pd.get_dummies(train_otlrs,drop_first=True)"
   ]
  },
  {
   "cell_type": "code",
   "execution_count": 275,
   "metadata": {},
   "outputs": [
    {
     "name": "stdout",
     "output_type": "stream",
     "text": [
      "<class 'pandas.core.frame.DataFrame'>\n",
      "RangeIndex: 126363 entries, 0 to 126362\n",
      "Data columns (total 50 columns):\n",
      " #   Column                       Non-Null Count   Dtype  \n",
      "---  ------                       --------------   -----  \n",
      " 0   OrderId                      126363 non-null  int64  \n",
      " 1   Zipcode                      126363 non-null  int64  \n",
      " 2   Sales                        126363 non-null  float64\n",
      " 3   Price                        126363 non-null  float64\n",
      " 4   Profit_Ratio                 126363 non-null  float64\n",
      " 5   Discount                     126363 non-null  float64\n",
      " 6   Order_Profit                 126363 non-null  float64\n",
      " 7   Prod_Category_Id             126363 non-null  int64  \n",
      " 8   ProductLength                126363 non-null  float64\n",
      " 9   ProductWeight                126363 non-null  float64\n",
      " 10  Delivery_Status              126363 non-null  int64  \n",
      " 11  Customer_Category_Corporate  126363 non-null  uint8  \n",
      " 12  Customer_Category_others     126363 non-null  uint8  \n",
      " 13  Order_zone_East              126363 non-null  uint8  \n",
      " 14  Order_zone_North             126363 non-null  uint8  \n",
      " 15  Order_zone_South             126363 non-null  uint8  \n",
      " 16  Order_zone_West              126363 non-null  uint8  \n",
      " 17  Transcation_Credit           126363 non-null  uint8  \n",
      " 18  Transcation_Debit            126363 non-null  uint8  \n",
      " 19  Transcation_UPI              126363 non-null  uint8  \n",
      " 20  Quantity_2                   126363 non-null  uint8  \n",
      " 21  Quantity_3                   126363 non-null  uint8  \n",
      " 22  Quantity_4                   126363 non-null  uint8  \n",
      " 23  Quantity_5                   126363 non-null  uint8  \n",
      " 24  Product_type_Not Fragile     126363 non-null  uint8  \n",
      " 25  Dispatched_1                 126363 non-null  uint8  \n",
      " 26  Shipping_Class_2A            126363 non-null  uint8  \n",
      " 27  Shipping_Class_Elite         126363 non-null  uint8  \n",
      " 28  Shipping_Class_Standard      126363 non-null  uint8  \n",
      " 29  Scheduled_Shipping_2         126363 non-null  uint8  \n",
      " 30  Scheduled_Shipping_3         126363 non-null  uint8  \n",
      " 31  Scheduled_Shipping_4         126363 non-null  uint8  \n",
      " 32  Scheduled_Shipping_5         126363 non-null  uint8  \n",
      " 33  Scheduled_Shipping_6         126363 non-null  uint8  \n",
      " 34  Warehouse_Region_NE          126363 non-null  uint8  \n",
      " 35  Warehouse_Region_NORTH       126363 non-null  uint8  \n",
      " 36  Warehouse_Region_SOUTH       126363 non-null  uint8  \n",
      " 37  Warehouse_Region_WEST        126363 non-null  uint8  \n",
      " 38  Delivery_Review_2.0          126363 non-null  uint8  \n",
      " 39  Delivery_Review_3.0          126363 non-null  uint8  \n",
      " 40  Delivery_Review_4.0          126363 non-null  uint8  \n",
      " 41  Delivery_Review_5.0          126363 non-null  uint8  \n",
      " 42  Session_Ordered_2.0          126363 non-null  uint8  \n",
      " 43  Session_Ordered_3.0          126363 non-null  uint8  \n",
      " 44  WeekdayOrder_1               126363 non-null  uint8  \n",
      " 45  StateRegion_NORTH            126363 non-null  uint8  \n",
      " 46  StateRegion_SOUTH            126363 non-null  uint8  \n",
      " 47  StateRegion_WEST             126363 non-null  uint8  \n",
      " 48  Dept_Name_masked_activity    126363 non-null  uint8  \n",
      " 49  Dept_Name_masked_shops       126363 non-null  uint8  \n",
      "dtypes: float64(7), int64(4), uint8(39)\n",
      "memory usage: 15.3 MB\n"
     ]
    }
   ],
   "source": [
    "train_df.info()"
   ]
  },
  {
   "cell_type": "code",
   "execution_count": 280,
   "metadata": {},
   "outputs": [],
   "source": [
    "X = train_df.drop(['Delivery_Status'],axis=1)\n",
    "y = train_df['Delivery_Status']\n",
    "X_train, X_test, y_train, y_test = train_test_split(X, y, test_size=0.3, random_state=42)"
   ]
  },
  {
   "cell_type": "code",
   "execution_count": 281,
   "metadata": {},
   "outputs": [
    {
     "name": "stdout",
     "output_type": "stream",
     "text": [
      "[[15459  5759]\n",
      " [ 2188  8242]]\n",
      "              precision    recall  f1-score   support\n",
      "\n",
      "           0       0.88      0.73      0.80     21218\n",
      "           1       0.59      0.79      0.67     10430\n",
      "\n",
      "    accuracy                           0.75     31648\n",
      "   macro avg       0.73      0.76      0.74     31648\n",
      "weighted avg       0.78      0.75      0.76     31648\n",
      "\n"
     ]
    }
   ],
   "source": [
    "gb = GradientBoostingClassifier()\n",
    "gb_model = gb.fit(X_train, y_train)\n",
    "y_pred = gb_model.predict(X_test)\n",
    "print(confusion_matrix(y_test,y_pred))\n",
    "print(classification_report(y_test,y_pred))"
   ]
  },
  {
   "cell_type": "code",
   "execution_count": 240,
   "metadata": {},
   "outputs": [
    {
     "name": "stdout",
     "output_type": "stream",
     "text": [
      "Best parameters for random forest classifier:  {'criterion': 'entropy', 'max_depth': 15, 'n_estimators': 50} \n",
      "\n"
     ]
    }
   ],
   "source": [
    "tuned_paramaters = [{'criterion': ['entropy', 'gini'],\n",
    "                     'n_estimators': [30, 50],\n",
    "                     'max_depth': [10, 15]}]\n",
    " \n",
    "# instantiate the 'RandomForestClassifier' \n",
    "# pass the 'random_state' to obtain the same samples for each time you run the code\n",
    "random_forest_classification = RandomForestClassifier(random_state = 10)\n",
    "\n",
    "\n",
    "# use GridSearchCV() to find the optimal value of the hyperparameters\n",
    "# estimator: pass the random forest classifier model\n",
    "# param_grid: pass the list 'tuned_parameters'\n",
    "# cv: number of folds in k-fold i.e. here cv = 5\n",
    "rf_grid = GridSearchCV(estimator = random_forest_classification, \n",
    "                       param_grid = tuned_paramaters, \n",
    "                       cv = 3)\n",
    "\n",
    "# use fit() to fit the model on the train set\n",
    "rf_grid_model = rf_grid.fit(X_train, y_train)\n",
    "\n",
    "# get the best parameters\n",
    "print('Best parameters for random forest classifier: ', rf_grid_model.best_params_, '\\n')"
   ]
  },
  {
   "cell_type": "code",
   "execution_count": 282,
   "metadata": {},
   "outputs": [
    {
     "name": "stdout",
     "output_type": "stream",
     "text": [
      "[[15726  5492]\n",
      " [ 2607  7823]]\n",
      "              precision    recall  f1-score   support\n",
      "\n",
      "           0       0.86      0.74      0.80     21218\n",
      "           1       0.59      0.75      0.66     10430\n",
      "\n",
      "    accuracy                           0.74     31648\n",
      "   macro avg       0.72      0.75      0.73     31648\n",
      "weighted avg       0.77      0.74      0.75     31648\n",
      "\n"
     ]
    }
   ],
   "source": [
    "rf_model = RandomForestClassifier(criterion = rf_grid_model.best_params_.get('criterion'), \n",
    "                                  n_estimators = rf_grid_model.best_params_.get('n_estimators'),\n",
    "                                  max_depth = rf_grid_model.best_params_.get('max_depth'),\n",
    "                                  random_state = 10)\n",
    "\n",
    "# use fit() to fit the model on the train set\n",
    "rf_model = rf_model.fit(X_train, y_train)\n",
    "y_pred = rf_model.predict(X_test)\n",
    "print(confusion_matrix(y_test,y_pred))\n",
    "print(classification_report(y_test,y_pred))"
   ]
  },
  {
   "cell_type": "code",
   "execution_count": 235,
   "metadata": {},
   "outputs": [
    {
     "name": "stdout",
     "output_type": "stream",
     "text": [
      "[[16017  5201]\n",
      " [ 3207  7223]]\n",
      "              precision    recall  f1-score   support\n",
      "\n",
      "           0       0.83      0.75      0.79     21218\n",
      "           1       0.58      0.69      0.63     10430\n",
      "\n",
      "    accuracy                           0.73     31648\n",
      "   macro avg       0.71      0.72      0.71     31648\n",
      "weighted avg       0.75      0.73      0.74     31648\n",
      "\n"
     ]
    }
   ],
   "source": [
    "rf = RandomForestClassifier()\n",
    "rf_model = rf.fit(X_train, y_train)\n",
    "y_pred = rf_model.predict(X_test)\n",
    "print(confusion_matrix(y_test,y_pred))\n",
    "print(classification_report(y_test,y_pred))"
   ]
  },
  {
   "cell_type": "code",
   "execution_count": 283,
   "metadata": {},
   "outputs": [
    {
     "name": "stderr",
     "output_type": "stream",
     "text": [
      "C:\\Users\\aniru\\anaconda3\\lib\\site-packages\\xgboost\\sklearn.py:1146: UserWarning: The use of label encoder in XGBClassifier is deprecated and will be removed in a future release. To remove this warning, do the following: 1) Pass option use_label_encoder=False when constructing XGBClassifier object; and 2) Encode your labels (y) as integers starting with 0, i.e. 0, 1, 2, ..., [num_class - 1].\n",
      "  warnings.warn(label_encoder_deprecation_msg, UserWarning)\n"
     ]
    },
    {
     "name": "stdout",
     "output_type": "stream",
     "text": [
      "[17:20:54] WARNING: C:/Users/Administrator/workspace/xgboost-win64_release_1.4.0/src/learner.cc:1095: Starting in XGBoost 1.3.0, the default evaluation metric used with the objective 'binary:logistic' was changed from 'error' to 'logloss'. Explicitly set eval_metric if you'd like to restore the old behavior.\n",
      "[[15418  5800]\n",
      " [ 2128  8302]]\n",
      "              precision    recall  f1-score   support\n",
      "\n",
      "           0       0.88      0.73      0.80     21218\n",
      "           1       0.59      0.80      0.68     10430\n",
      "\n",
      "    accuracy                           0.75     31648\n",
      "   macro avg       0.73      0.76      0.74     31648\n",
      "weighted avg       0.78      0.75      0.76     31648\n",
      "\n"
     ]
    }
   ],
   "source": [
    "xg=XGBClassifier(learning_rate= 0.1,max_depth=3, n_estimators=100, random_state= 42)\n",
    "xg_model = xg.fit(X_train,y_train)\n",
    "y_pred = xg_model.predict(X_test)\n",
    "print(confusion_matrix(y_test,y_pred))\n",
    "print(classification_report(y_test,y_pred))"
   ]
  },
  {
   "cell_type": "code",
   "execution_count": 212,
   "metadata": {},
   "outputs": [
    {
     "name": "stdout",
     "output_type": "stream",
     "text": [
      "Best parameters for XGBoost classifier:  {'learning_rate': 0.1, 'max_depth': 3, 'n_estimators': 100, 'random_state': 42} \n",
      "\n"
     ]
    }
   ],
   "source": [
    "tuning_parameters = {'learning_rate': [0.1, 0.01,0.001],\n",
    "                     'max_depth': [3,5,7],\n",
    "                     'n_estimators':[100,200,400],\n",
    "                     'random_state':[42]\n",
    "                    }\n",
    "\n",
    "# instantiate the 'XGBClassifier' \n",
    "grb_model = GradientBoostingClassifier()\n",
    "\n",
    "gb_grid = GridSearchCV(estimator = grb_model, param_grid = tuning_parameters, cv = 3, scoring = 'roc_auc')\n",
    "\n",
    "# fit the model on X_train and y_train using fit()\n",
    "gb_grid.fit(X_train, y_train)\n",
    "\n",
    "# get the best parameters\n",
    "print('Best parameters for XGBoost classifier: ', gb_grid.best_params_, '\\n')"
   ]
  },
  {
   "cell_type": "code",
   "execution_count": 213,
   "metadata": {},
   "outputs": [
    {
     "name": "stdout",
     "output_type": "stream",
     "text": [
      "[[13269  5193]\n",
      " [ 1903  6947]]\n",
      "              precision    recall  f1-score   support\n",
      "\n",
      "           0       0.87      0.72      0.79     18462\n",
      "           1       0.57      0.78      0.66      8850\n",
      "\n",
      "    accuracy                           0.74     27312\n",
      "   macro avg       0.72      0.75      0.73     27312\n",
      "weighted avg       0.78      0.74      0.75     27312\n",
      "\n"
     ]
    }
   ],
   "source": [
    "gb_grid_model = GradientBoostingClassifier(learning_rate = gb_grid.best_params_.get('learning_rate'),\n",
    "                               max_depth = gb_grid.best_params_.get('max_depth'),\n",
    "                              n_estimators = gb_grid.best_params_.get('n_estimators'),\n",
    "                            random_state=42)\n",
    "\n",
    "# use fit() to fit the model on the train set\n",
    "gb_model = gb_grid_model.fit(X_train, y_train)\n",
    "y_pred = gb_model.predict(X_test)\n",
    "print(confusion_matrix(y_test,y_pred))\n",
    "print(classification_report(y_test,y_pred))"
   ]
  },
  {
   "cell_type": "code",
   "execution_count": 286,
   "metadata": {},
   "outputs": [
    {
     "name": "stderr",
     "output_type": "stream",
     "text": [
      "C:\\Users\\aniru\\anaconda3\\lib\\site-packages\\xgboost\\sklearn.py:1146: UserWarning: The use of label encoder in XGBClassifier is deprecated and will be removed in a future release. To remove this warning, do the following: 1) Pass option use_label_encoder=False when constructing XGBClassifier object; and 2) Encode your labels (y) as integers starting with 0, i.e. 0, 1, 2, ..., [num_class - 1].\n",
      "  warnings.warn(label_encoder_deprecation_msg, UserWarning)\n"
     ]
    },
    {
     "name": "stdout",
     "output_type": "stream",
     "text": [
      "[17:32:33] WARNING: C:/Users/Administrator/workspace/xgboost-win64_release_1.4.0/src/learner.cc:1095: Starting in XGBoost 1.3.0, the default evaluation metric used with the objective 'binary:logistic' was changed from 'error' to 'logloss'. Explicitly set eval_metric if you'd like to restore the old behavior.\n"
     ]
    },
    {
     "name": "stderr",
     "output_type": "stream",
     "text": [
      "C:\\Users\\aniru\\anaconda3\\lib\\site-packages\\xgboost\\sklearn.py:1146: UserWarning: The use of label encoder in XGBClassifier is deprecated and will be removed in a future release. To remove this warning, do the following: 1) Pass option use_label_encoder=False when constructing XGBClassifier object; and 2) Encode your labels (y) as integers starting with 0, i.e. 0, 1, 2, ..., [num_class - 1].\n",
      "  warnings.warn(label_encoder_deprecation_msg, UserWarning)\n"
     ]
    },
    {
     "name": "stdout",
     "output_type": "stream",
     "text": [
      "[17:33:35] WARNING: C:/Users/Administrator/workspace/xgboost-win64_release_1.4.0/src/learner.cc:1095: Starting in XGBoost 1.3.0, the default evaluation metric used with the objective 'binary:logistic' was changed from 'error' to 'logloss'. Explicitly set eval_metric if you'd like to restore the old behavior.\n"
     ]
    },
    {
     "name": "stderr",
     "output_type": "stream",
     "text": [
      "C:\\Users\\aniru\\anaconda3\\lib\\site-packages\\xgboost\\sklearn.py:1146: UserWarning: The use of label encoder in XGBClassifier is deprecated and will be removed in a future release. To remove this warning, do the following: 1) Pass option use_label_encoder=False when constructing XGBClassifier object; and 2) Encode your labels (y) as integers starting with 0, i.e. 0, 1, 2, ..., [num_class - 1].\n",
      "  warnings.warn(label_encoder_deprecation_msg, UserWarning)\n"
     ]
    },
    {
     "name": "stdout",
     "output_type": "stream",
     "text": [
      "[17:33:39] WARNING: C:/Users/Administrator/workspace/xgboost-win64_release_1.4.0/src/learner.cc:1095: Starting in XGBoost 1.3.0, the default evaluation metric used with the objective 'binary:logistic' was changed from 'error' to 'logloss'. Explicitly set eval_metric if you'd like to restore the old behavior.\n"
     ]
    },
    {
     "name": "stderr",
     "output_type": "stream",
     "text": [
      "C:\\Users\\aniru\\anaconda3\\lib\\site-packages\\xgboost\\sklearn.py:1146: UserWarning: The use of label encoder in XGBClassifier is deprecated and will be removed in a future release. To remove this warning, do the following: 1) Pass option use_label_encoder=False when constructing XGBClassifier object; and 2) Encode your labels (y) as integers starting with 0, i.e. 0, 1, 2, ..., [num_class - 1].\n",
      "  warnings.warn(label_encoder_deprecation_msg, UserWarning)\n"
     ]
    },
    {
     "name": "stdout",
     "output_type": "stream",
     "text": [
      "[17:33:42] WARNING: C:/Users/Administrator/workspace/xgboost-win64_release_1.4.0/src/learner.cc:1095: Starting in XGBoost 1.3.0, the default evaluation metric used with the objective 'binary:logistic' was changed from 'error' to 'logloss'. Explicitly set eval_metric if you'd like to restore the old behavior.\n"
     ]
    },
    {
     "name": "stderr",
     "output_type": "stream",
     "text": [
      "C:\\Users\\aniru\\anaconda3\\lib\\site-packages\\xgboost\\sklearn.py:1146: UserWarning: The use of label encoder in XGBClassifier is deprecated and will be removed in a future release. To remove this warning, do the following: 1) Pass option use_label_encoder=False when constructing XGBClassifier object; and 2) Encode your labels (y) as integers starting with 0, i.e. 0, 1, 2, ..., [num_class - 1].\n",
      "  warnings.warn(label_encoder_deprecation_msg, UserWarning)\n"
     ]
    },
    {
     "name": "stdout",
     "output_type": "stream",
     "text": [
      "[17:33:45] WARNING: C:/Users/Administrator/workspace/xgboost-win64_release_1.4.0/src/learner.cc:1095: Starting in XGBoost 1.3.0, the default evaluation metric used with the objective 'binary:logistic' was changed from 'error' to 'logloss'. Explicitly set eval_metric if you'd like to restore the old behavior.\n"
     ]
    },
    {
     "name": "stderr",
     "output_type": "stream",
     "text": [
      "C:\\Users\\aniru\\anaconda3\\lib\\site-packages\\xgboost\\sklearn.py:1146: UserWarning: The use of label encoder in XGBClassifier is deprecated and will be removed in a future release. To remove this warning, do the following: 1) Pass option use_label_encoder=False when constructing XGBClassifier object; and 2) Encode your labels (y) as integers starting with 0, i.e. 0, 1, 2, ..., [num_class - 1].\n",
      "  warnings.warn(label_encoder_deprecation_msg, UserWarning)\n"
     ]
    },
    {
     "name": "stdout",
     "output_type": "stream",
     "text": [
      "[17:33:48] WARNING: C:/Users/Administrator/workspace/xgboost-win64_release_1.4.0/src/learner.cc:1095: Starting in XGBoost 1.3.0, the default evaluation metric used with the objective 'binary:logistic' was changed from 'error' to 'logloss'. Explicitly set eval_metric if you'd like to restore the old behavior.\n"
     ]
    },
    {
     "data": {
      "text/plain": [
       "StackingClassifier(estimators=[('xg_model',\n",
       "                                XGBClassifier(base_score=None, booster=None,\n",
       "                                              colsample_bylevel=None,\n",
       "                                              colsample_bynode=None,\n",
       "                                              colsample_bytree=None, gamma=None,\n",
       "                                              gpu_id=None,\n",
       "                                              importance_type='gain',\n",
       "                                              interaction_constraints=None,\n",
       "                                              learning_rate=0.1,\n",
       "                                              max_delta_step=None, max_depth=3,\n",
       "                                              min_child_weight=None,\n",
       "                                              missing=nan,\n",
       "                                              monotone_constraints=None,\n",
       "                                              n_estimators=100, n_jobs=None,\n",
       "                                              num_parallel_tree=None,\n",
       "                                              random_state=42, reg_alpha=None,\n",
       "                                              reg_lambda=None,\n",
       "                                              scale_pos_weight=None,\n",
       "                                              subsample=None, tree_method=None,\n",
       "                                              validate_parameters=None,\n",
       "                                              verbosity=None)),\n",
       "                               ('grb_model',\n",
       "                                GradientBoostingClassifier(random_state=42))],\n",
       "                   final_estimator=GradientBoostingClassifier())"
      ]
     },
     "execution_count": 286,
     "metadata": {},
     "output_type": "execute_result"
    }
   ],
   "source": [
    "base_learners = [('xg_model', XGBClassifier(learning_rate= 0.1,max_depth=3, n_estimators=100, random_state= 42)),\n",
    "                 ('grb_model',GradientBoostingClassifier(learning_rate = gb_grid.best_params_.get('learning_rate'),\n",
    "                               max_depth = gb_grid.best_params_.get('max_depth'),\n",
    "                              n_estimators = gb_grid.best_params_.get('n_estimators'),\n",
    "                            random_state=42))]\n",
    "\n",
    "# initialize stacking classifier \n",
    "# pass the base learners to the parameter, 'estimators'\n",
    "# pass the Naive Bayes model as the 'final_estimator'/ meta model\n",
    "stack_model = StackingClassifier(estimators = base_learners, final_estimator = GradientBoostingClassifier())\n",
    "\n",
    "# fit the model on train dataset\n",
    "stack_model.fit(X_train, y_train)"
   ]
  },
  {
   "cell_type": "code",
   "execution_count": 287,
   "metadata": {},
   "outputs": [
    {
     "name": "stdout",
     "output_type": "stream",
     "text": [
      "[[14521  6697]\n",
      " [ 1304  9126]]\n",
      "              precision    recall  f1-score   support\n",
      "\n",
      "           0       0.92      0.68      0.78     21218\n",
      "           1       0.58      0.87      0.70     10430\n",
      "\n",
      "    accuracy                           0.75     31648\n",
      "   macro avg       0.75      0.78      0.74     31648\n",
      "weighted avg       0.81      0.75      0.75     31648\n",
      "\n"
     ]
    }
   ],
   "source": [
    "y_pred = stack_model.predict(X_test)#2learners with #2cols masked #1.5 outlers\n",
    "print(confusion_matrix(y_test,y_pred))\n",
    "print(classification_report(y_test,y_pred))"
   ]
  },
  {
   "cell_type": "code",
   "execution_count": 288,
   "metadata": {},
   "outputs": [
    {
     "data": {
      "text/plain": [
       "0.695234830305108"
      ]
     },
     "execution_count": 288,
     "metadata": {},
     "output_type": "execute_result"
    }
   ],
   "source": [
    "f1_score(y_test,y_pred)"
   ]
  },
  {
   "cell_type": "code",
   "execution_count": 183,
   "metadata": {},
   "outputs": [
    {
     "name": "stdout",
     "output_type": "stream",
     "text": [
      "[[14332  6886]\n",
      " [ 1168  9262]]\n",
      "              precision    recall  f1-score   support\n",
      "\n",
      "           0       0.92      0.68      0.78     21218\n",
      "           1       0.57      0.89      0.70     10430\n",
      "\n",
      "    accuracy                           0.75     31648\n",
      "   macro avg       0.75      0.78      0.74     31648\n",
      "weighted avg       0.81      0.75      0.75     31648\n",
      "\n"
     ]
    }
   ],
   "source": [
    "y_pred = stack_model.predict(X_test)#2learners with #2cols masked #outlers\n",
    "print(confusion_matrix(y_test,y_pred))\n",
    "print(classification_report(y_test,y_pred))"
   ]
  },
  {
   "cell_type": "code",
   "execution_count": 184,
   "metadata": {},
   "outputs": [
    {
     "data": {
      "text/plain": [
       "0.696967416660396"
      ]
     },
     "execution_count": 184,
     "metadata": {},
     "output_type": "execute_result"
    }
   ],
   "source": [
    "f1_score(y_test,y_pred)"
   ]
  },
  {
   "cell_type": "code",
   "execution_count": 177,
   "metadata": {},
   "outputs": [
    {
     "name": "stdout",
     "output_type": "stream",
     "text": [
      "[[14587  6631]\n",
      " [ 1373  9057]]\n",
      "              precision    recall  f1-score   support\n",
      "\n",
      "           0       0.91      0.69      0.78     21218\n",
      "           1       0.58      0.87      0.69     10430\n",
      "\n",
      "    accuracy                           0.75     31648\n",
      "   macro avg       0.75      0.78      0.74     31648\n",
      "weighted avg       0.80      0.75      0.75     31648\n",
      "\n"
     ]
    }
   ],
   "source": [
    "y_pred = stack_model.predict(X_test)#3learners with #2cols masked\n",
    "print(confusion_matrix(y_test,y_pred))\n",
    "print(classification_report(y_test,y_pred))"
   ]
  },
  {
   "cell_type": "code",
   "execution_count": 20,
   "metadata": {},
   "outputs": [
    {
     "name": "stdout",
     "output_type": "stream",
     "text": [
      "[[17322  8294]\n",
      " [ 1533 10760]]\n",
      "              precision    recall  f1-score   support\n",
      "\n",
      "           0       0.92      0.68      0.78     25616\n",
      "           1       0.56      0.88      0.69     12293\n",
      "\n",
      "    accuracy                           0.74     37909\n",
      "   macro avg       0.74      0.78      0.73     37909\n",
      "weighted avg       0.80      0.74      0.75     37909\n",
      "\n"
     ]
    }
   ],
   "source": [
    "y_pred = stack_model.predict(X_test)#2learners\n",
    "print(confusion_matrix(y_test,y_pred))\n",
    "print(classification_report(y_test,y_pred))"
   ]
  },
  {
   "cell_type": "code",
   "execution_count": 70,
   "metadata": {},
   "outputs": [
    {
     "name": "stdout",
     "output_type": "stream",
     "text": [
      "[[17572  8044]\n",
      " [ 1697 10596]]\n",
      "              precision    recall  f1-score   support\n",
      "\n",
      "           0       0.91      0.69      0.78     25616\n",
      "           1       0.57      0.86      0.69     12293\n",
      "\n",
      "    accuracy                           0.74     37909\n",
      "   macro avg       0.74      0.77      0.73     37909\n",
      "weighted avg       0.80      0.74      0.75     37909\n",
      "\n"
     ]
    }
   ],
   "source": [
    "y_pred = stack_model.predict(X_test)#3 learners\n",
    "print(confusion_matrix(y_test,y_pred))\n",
    "print(classification_report(y_test,y_pred))"
   ]
  },
  {
   "cell_type": "code",
   "execution_count": 67,
   "metadata": {},
   "outputs": [
    {
     "name": "stdout",
     "output_type": "stream",
     "text": [
      "Best parameters for XGBoost classifier:  {'learning_rate': 0.01, 'max_depth': 5, 'n_estimators': 140} \n",
      "\n"
     ]
    }
   ],
   "source": [
    "tuning_parameters = {'learning_rate': [0.1, 0.3, 0.01],\n",
    "                     'max_depth': [5,10],\n",
    "                     'n_estimators': range(100,150,10)}\n",
    "\n",
    "# instantiate the 'XGBClassifier' \n",
    "grb = GradientBoostingClassifier()\n",
    "\n",
    "xgb_grid = GridSearchCV(estimator = grb, param_grid = tuning_parameters, cv = 3, scoring = 'roc_auc')\n",
    "\n",
    "# fit the model on X_train and y_train using fit()\n",
    "xgb_grid.fit(X_train, y_train)\n",
    "\n",
    "# get the best parameters\n",
    "print('Best parameters for XGBoost classifier: ', xgb_grid.best_params_, '\\n')"
   ]
  },
  {
   "cell_type": "code",
   "execution_count": 68,
   "metadata": {},
   "outputs": [],
   "source": [
    "grb_grid_model = GradientBoostingClassifier(learning_rate = xgb_grid.best_params_.get('learning_rate'),\n",
    "                               max_depth = xgb_grid.best_params_.get('max_depth'),\n",
    "                              n_estimators = xgb_grid.best_params_.get('n_estimators'))\n",
    "\n",
    "# use fit() to fit the model on the train set\n",
    "grb_model = grb_grid_model.fit(X_train, y_train)\n"
   ]
  },
  {
   "cell_type": "code",
   "execution_count": 69,
   "metadata": {},
   "outputs": [
    {
     "name": "stdout",
     "output_type": "stream",
     "text": [
      "[[20651  4965]\n",
      " [ 5045  7248]]\n",
      "              precision    recall  f1-score   support\n",
      "\n",
      "           0       0.80      0.81      0.80     25616\n",
      "           1       0.59      0.59      0.59     12293\n",
      "\n",
      "    accuracy                           0.74     37909\n",
      "   macro avg       0.70      0.70      0.70     37909\n",
      "weighted avg       0.74      0.74      0.74     37909\n",
      "\n"
     ]
    }
   ],
   "source": [
    "y_pred = grb_model.predict(X_test)\n",
    "print(confusion_matrix(y_test,y_pred))\n",
    "print(classification_report(y_test,y_pred))"
   ]
  },
  {
   "cell_type": "code",
   "execution_count": 239,
   "metadata": {},
   "outputs": [
    {
     "name": "stdout",
     "output_type": "stream",
     "text": [
      "0.7145475227502528\n",
      "[[16775  4443]\n",
      " [ 4591  5839]]\n",
      "              precision    recall  f1-score   support\n",
      "\n",
      "           0       0.79      0.79      0.79     21218\n",
      "           1       0.57      0.56      0.56     10430\n",
      "\n",
      "    accuracy                           0.71     31648\n",
      "   macro avg       0.68      0.68      0.68     31648\n",
      "weighted avg       0.71      0.71      0.71     31648\n",
      "\n"
     ]
    }
   ],
   "source": [
    "dt = DecisionTreeClassifier()\n",
    "dt_model = dt.fit(X_train,y_train)\n",
    "y_pred = dt_model.predict(X_test)\n",
    "print(accuracy_score(y_test,y_pred))\n",
    "print(confusion_matrix(y_test,y_pred))\n",
    "print(classification_report(y_test,y_pred))"
   ]
  },
  {
   "cell_type": "code",
   "execution_count": 70,
   "metadata": {},
   "outputs": [
    {
     "name": "stderr",
     "output_type": "stream",
     "text": [
      "C:\\Users\\aniru\\anaconda3\\lib\\site-packages\\xgboost\\sklearn.py:1146: UserWarning: The use of label encoder in XGBClassifier is deprecated and will be removed in a future release. To remove this warning, do the following: 1) Pass option use_label_encoder=False when constructing XGBClassifier object; and 2) Encode your labels (y) as integers starting with 0, i.e. 0, 1, 2, ..., [num_class - 1].\n",
      "  warnings.warn(label_encoder_deprecation_msg, UserWarning)\n"
     ]
    },
    {
     "name": "stdout",
     "output_type": "stream",
     "text": [
      "[21:42:59] WARNING: C:/Users/Administrator/workspace/xgboost-win64_release_1.4.0/src/learner.cc:1095: Starting in XGBoost 1.3.0, the default evaluation metric used with the objective 'binary:logistic' was changed from 'error' to 'logloss'. Explicitly set eval_metric if you'd like to restore the old behavior.\n",
      "0.7368434936294811\n",
      "[[18676  6940]\n",
      " [ 3036  9257]]\n",
      "              precision    recall  f1-score   support\n",
      "\n",
      "           0       0.86      0.73      0.79     25616\n",
      "           1       0.57      0.75      0.65     12293\n",
      "\n",
      "    accuracy                           0.74     37909\n",
      "   macro avg       0.72      0.74      0.72     37909\n",
      "weighted avg       0.77      0.74      0.74     37909\n",
      "\n"
     ]
    }
   ],
   "source": [
    "xg=XGBClassifier()\n",
    "xg_model = xg.fit(X_train,y_train)\n",
    "y_pred = xg_model.predict(X_test)\n",
    "print(accuracy_score(y_test,y_pred))\n",
    "print(confusion_matrix(y_test,y_pred))\n",
    "print(classification_report(y_test,y_pred))"
   ]
  },
  {
   "cell_type": "code",
   "execution_count": 141,
   "metadata": {},
   "outputs": [],
   "source": [
    "test = pd.read_csv('Test_Set.csv')"
   ]
  },
  {
   "cell_type": "code",
   "execution_count": 142,
   "metadata": {},
   "outputs": [],
   "source": [
    "test['Sales'] = test['Sales'].fillna(test['Sales'].mean())\n",
    "test['Discount'] = test['Discount'].fillna(test['Discount'].mean())\n",
    "test['ProductLength'] = test['ProductLength'].fillna(test['ProductLength'].mean())\n",
    "test['ProductWeight'] = test['ProductWeight'].fillna(test['ProductWeight'].mean())"
   ]
  },
  {
   "cell_type": "code",
   "execution_count": 143,
   "metadata": {},
   "outputs": [],
   "source": [
    "test['Delivery_Review'].fillna(test['Delivery_Review'].mode()[0],inplace=True)\n",
    "test['Session_Ordered'].fillna(test['Session_Ordered'].mode()[0],inplace=True)"
   ]
  },
  {
   "cell_type": "code",
   "execution_count": 144,
   "metadata": {},
   "outputs": [],
   "source": [
    "test['Quantity'] = test['Quantity'].astype(object)\n",
    "test['Dispatched'] = test['Dispatched'].astype(object)\n",
    "test['Scheduled_Shipping'] = test['Scheduled_Shipping'].astype(object)\n",
    "test['Delivery_Review'] = test['Delivery_Review'].astype(object)\n",
    "test['Session_Ordered'] = test['Session_Ordered'].astype(object)\n",
    "test['WeekdayOrder'] = test['WeekdayOrder'].astype(object)"
   ]
  },
  {
   "cell_type": "code",
   "execution_count": 145,
   "metadata": {},
   "outputs": [],
   "source": [
    "test['StateRegion'] = test['Cust_State'].replace(['JK','HR','HP','UK','UP'],'NORTH')\n",
    "test['StateRegion'] = test['StateRegion'].replace(['RJ','GJ','MP','MA'],'WEST')\n",
    "test['StateRegion'] = test['StateRegion'].replace(['KL','TEL','AP','KA'],'SOUTH')\n",
    "test['StateRegion'] = test['StateRegion'].replace(['WB','PB','OR','AR','BR'],'EAST')"
   ]
  },
  {
   "cell_type": "code",
   "execution_count": 146,
   "metadata": {},
   "outputs": [],
   "source": [
    "test['Dept_Name_masked']  = test['Dept_Name'].replace(['Fan Shop','Discs Shop','Pet Shop','Book Shop'],'shops')\n",
    "test['Dept_Name_masked']  = test['Dept_Name_masked'] .replace(['Apparel','Footwear','Health and Beauty '],'Fashion')\n",
    "test['Dept_Name_masked']  = test['Dept_Name_masked'] .replace(['Golf','Fitness','Outdoors'],'activity')\n",
    "test['Dept_Name_masked']  = test['Dept_Name_masked'] .replace(['Technology'],'tech')"
   ]
  },
  {
   "cell_type": "code",
   "execution_count": 147,
   "metadata": {},
   "outputs": [],
   "source": [
    "test = test.drop(['Dept_Id','CategoryName','Cust_State','OrderId','Customer_Id','Dept_Name'],axis=1)"
   ]
  },
  {
   "cell_type": "code",
   "execution_count": 148,
   "metadata": {},
   "outputs": [],
   "source": [
    "test_df = pd.get_dummies(test,drop_first=True)"
   ]
  },
  {
   "cell_type": "code",
   "execution_count": 149,
   "metadata": {},
   "outputs": [
    {
     "data": {
      "text/plain": [
       "(54156, 49)"
      ]
     },
     "execution_count": 149,
     "metadata": {},
     "output_type": "execute_result"
    }
   ],
   "source": [
    "test_df.shape"
   ]
  },
  {
   "cell_type": "code",
   "execution_count": 150,
   "metadata": {},
   "outputs": [],
   "source": [
    "test = pd.read_csv('Test_Set.csv')"
   ]
  },
  {
   "cell_type": "code",
   "execution_count": 227,
   "metadata": {},
   "outputs": [],
   "source": [
    "y_pred_test = stack_model.predict(test_df)\n",
    "y_pred_series = pd.Series(y_pred_test)\n",
    "\n",
    "orderid = test['OrderId']\n",
    "\n",
    "data = {\"OrderId\": orderid,\n",
    "        \"Delivery_Status\": y_pred_series}\n",
    "  \n",
    "df = pd.concat(data,axis = 1)"
   ]
  },
  {
   "cell_type": "code",
   "execution_count": 228,
   "metadata": {},
   "outputs": [
    {
     "data": {
      "text/plain": [
       "0.6995807307264481"
      ]
     },
     "execution_count": 228,
     "metadata": {},
     "output_type": "execute_result"
    }
   ],
   "source": [
    "f1_score(y_test,y_pred)"
   ]
  },
  {
   "cell_type": "code",
   "execution_count": 229,
   "metadata": {},
   "outputs": [
    {
     "data": {
      "text/plain": [
       "1    27485\n",
       "0    26671\n",
       "Name: Delivery_Status, dtype: int64"
      ]
     },
     "execution_count": 229,
     "metadata": {},
     "output_type": "execute_result"
    }
   ],
   "source": [
    "df.Delivery_Status.value_counts()"
   ]
  },
  {
   "cell_type": "code",
   "execution_count": 186,
   "metadata": {},
   "outputs": [
    {
     "data": {
      "text/plain": [
       "1    27862\n",
       "0    26294\n",
       "Name: Delivery_Status, dtype: int64"
      ]
     },
     "execution_count": 186,
     "metadata": {},
     "output_type": "execute_result"
    }
   ],
   "source": [
    "df.Delivery_Status.value_counts()"
   ]
  },
  {
   "cell_type": "code",
   "execution_count": 179,
   "metadata": {},
   "outputs": [
    {
     "data": {
      "text/plain": [
       "0    27105\n",
       "1    27051\n",
       "Name: Delivery_Status, dtype: int64"
      ]
     },
     "execution_count": 179,
     "metadata": {},
     "output_type": "execute_result"
    }
   ],
   "source": [
    "df.Delivery_Status.value_counts()"
   ]
  },
  {
   "cell_type": "code",
   "execution_count": 152,
   "metadata": {},
   "outputs": [
    {
     "data": {
      "text/plain": [
       "1    27243\n",
       "0    26913\n",
       "Name: Delivery_Status, dtype: int64"
      ]
     },
     "execution_count": 152,
     "metadata": {},
     "output_type": "execute_result"
    }
   ],
   "source": [
    "df.Delivery_Status.value_counts()"
   ]
  },
  {
   "cell_type": "code",
   "execution_count": 72,
   "metadata": {},
   "outputs": [
    {
     "data": {
      "text/plain": [
       "0    27346\n",
       "1    26810\n",
       "Name: Delivery_Status, dtype: int64"
      ]
     },
     "execution_count": 72,
     "metadata": {},
     "output_type": "execute_result"
    }
   ],
   "source": [
    "df.Delivery_Status.value_counts()"
   ]
  },
  {
   "cell_type": "code",
   "execution_count": 230,
   "metadata": {},
   "outputs": [],
   "source": [
    "df.set_index(\"OrderId\", inplace = True)\n",
    "submission_data_1 = df.to_csv('2 cols masked satdy aftnun 1.5outlier only xg and grb final as xg.csv', index = True)"
   ]
  },
  {
   "cell_type": "code",
   "execution_count": 37,
   "metadata": {},
   "outputs": [],
   "source": [
    "y_pred_test = xg_model.predict(test_df)\n",
    "y_pred_series = pd.Series(y_pred_test)\n",
    "\n",
    "orderid = test['OrderId']\n",
    "\n",
    "data = {\"OrderId\": orderid,\n",
    "        \"Delivery_Status\": y_pred_series}\n",
    "  \n",
    "df = pd.concat(data,axis = 1)"
   ]
  },
  {
   "cell_type": "code",
   "execution_count": 38,
   "metadata": {},
   "outputs": [
    {
     "data": {
      "text/plain": [
       "0    30892\n",
       "1    23264\n",
       "Name: Delivery_Status, dtype: int64"
      ]
     },
     "execution_count": 38,
     "metadata": {},
     "output_type": "execute_result"
    }
   ],
   "source": [
    "df.Delivery_Status.value_counts()"
   ]
  },
  {
   "cell_type": "code",
   "execution_count": 40,
   "metadata": {},
   "outputs": [],
   "source": [
    "y_pred_test = gb_model.predict(test_df)\n",
    "y_pred_series = pd.Series(y_pred_test)\n",
    "\n",
    "orderid = test['OrderId']\n",
    "\n",
    "data = {\"OrderId\": orderid,\n",
    "        \"Delivery_Status\": y_pred_series}\n",
    "  \n",
    "df = pd.concat(data,axis = 1)"
   ]
  },
  {
   "cell_type": "code",
   "execution_count": 41,
   "metadata": {},
   "outputs": [
    {
     "data": {
      "text/plain": [
       "0    29401\n",
       "1    24755\n",
       "Name: Delivery_Status, dtype: int64"
      ]
     },
     "execution_count": 41,
     "metadata": {},
     "output_type": "execute_result"
    }
   ],
   "source": [
    "df.Delivery_Status.value_counts()"
   ]
  },
  {
   "cell_type": "code",
   "execution_count": 205,
   "metadata": {},
   "outputs": [
    {
     "name": "stdout",
     "output_type": "stream",
     "text": [
      "[[13835  4627]\n",
      " [ 2642  6208]]\n",
      "              precision    recall  f1-score   support\n",
      "\n",
      "           0       0.84      0.75      0.79     18462\n",
      "           1       0.57      0.70      0.63      8850\n",
      "\n",
      "    accuracy                           0.73     27312\n",
      "   macro avg       0.71      0.73      0.71     27312\n",
      "weighted avg       0.75      0.73      0.74     27312\n",
      "\n"
     ]
    }
   ],
   "source": [
    "bg=RandomForestClassifier()\n",
    "bg_model = bg.fit(X_train,y_train)\n",
    "y_pred = bg_model.predict(X_test)\n",
    "print(confusion_matrix(y_test,y_pred))\n",
    "print(classification_report(y_test,y_pred))"
   ]
  },
  {
   "cell_type": "code",
   "execution_count": 237,
   "metadata": {},
   "outputs": [
    {
     "name": "stderr",
     "output_type": "stream",
     "text": [
      "C:\\Users\\aniru\\anaconda3\\lib\\site-packages\\xgboost\\sklearn.py:1146: UserWarning: The use of label encoder in XGBClassifier is deprecated and will be removed in a future release. To remove this warning, do the following: 1) Pass option use_label_encoder=False when constructing XGBClassifier object; and 2) Encode your labels (y) as integers starting with 0, i.e. 0, 1, 2, ..., [num_class - 1].\n",
      "  warnings.warn(label_encoder_deprecation_msg, UserWarning)\n"
     ]
    },
    {
     "name": "stdout",
     "output_type": "stream",
     "text": [
      "[16:41:30] WARNING: C:/Users/Administrator/workspace/xgboost-win64_release_1.4.0/src/learner.cc:1095: Starting in XGBoost 1.3.0, the default evaluation metric used with the objective 'binary:logistic' was changed from 'error' to 'logloss'. Explicitly set eval_metric if you'd like to restore the old behavior.\n",
      "              precision    recall  f1-score   support\n",
      "\n",
      "           0       0.88      0.72      0.79     21218\n",
      "           1       0.58      0.79      0.67     10430\n",
      "\n",
      "    accuracy                           0.75     31648\n",
      "   macro avg       0.73      0.76      0.73     31648\n",
      "weighted avg       0.78      0.75      0.75     31648\n",
      "\n"
     ]
    }
   ],
   "source": [
    "estimate= [(\"Grad boost\",gb_model),(\"xg\",xg_model)]\n",
    "#  Losti : 1,   Bag:  1, Gra: 1, Xg: 0\n",
    "\n",
    "VC2=VotingClassifier(estimators=estimate, voting='hard')  # Bagging Classifier\n",
    "model_vc=VC2.fit(X_train, y_train)\n",
    "y_pred_vc=model_vc.predict(X_test)\n",
    "accuracy_score(y_test,y_pred_vc)\n",
    "print(classification_report(y_test,y_pred))"
   ]
  },
  {
   "cell_type": "code",
   "execution_count": null,
   "metadata": {},
   "outputs": [],
   "source": [
    "#vif on current model and reduce dimensions by using feature engineering"
   ]
  }
 ],
 "metadata": {
  "kernelspec": {
   "display_name": "Python 3",
   "language": "python",
   "name": "python3"
  },
  "language_info": {
   "codemirror_mode": {
    "name": "ipython",
    "version": 3
   },
   "file_extension": ".py",
   "mimetype": "text/x-python",
   "name": "python",
   "nbconvert_exporter": "python",
   "pygments_lexer": "ipython3",
   "version": "3.8.5"
  }
 },
 "nbformat": 4,
 "nbformat_minor": 4
}
